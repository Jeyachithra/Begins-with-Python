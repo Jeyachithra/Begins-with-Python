{
 "cells": [
  {
   "cell_type": "code",
   "execution_count": 16,
   "metadata": {},
   "outputs": [
    {
     "name": "stdout",
     "output_type": "stream",
     "text": [
      "(3, 0)\n"
     ]
    }
   ],
   "source": [
    "class Solution:\n",
    "    def twoSum(self,nums, target):\n",
    "        dict = {}\n",
    "        for i in range(len(nums)):\n",
    "            if target-nums[i] not in dict:\n",
    "                dict[nums[i]]=i\n",
    "            else:\n",
    "                return [dict[target-nums[i]],i]\n",
    "print twoSums([2,7,5,12,23],14)"
   ]
  },
  {
   "cell_type": "code",
   "execution_count": 15,
   "metadata": {},
   "outputs": [
    {
     "name": "stdout",
     "output_type": "stream",
     "text": [
      "(2, 0)\n"
     ]
    }
   ],
   "source": [
    "def twoSums(nums, target):\n",
    "    for index, number in enumerate(nums):\n",
    "\n",
    "        make_positive = target - number\n",
    "\n",
    "        if (make_positive in nums) and (nums.index(make_positive) != index):\n",
    "            return nums.index(make_positive), index\n",
    "\n",
    "print(twoSums([7,7,5,12,23],12))"
   ]
  }
 ],
 "metadata": {
  "kernelspec": {
   "display_name": "Python 2",
   "language": "python",
   "name": "python2"
  },
  "language_info": {
   "codemirror_mode": {
    "name": "ipython",
    "version": 2
   },
   "file_extension": ".py",
   "mimetype": "text/x-python",
   "name": "python",
   "nbconvert_exporter": "python",
   "pygments_lexer": "ipython2",
   "version": "2.7.16"
  }
 },
 "nbformat": 4,
 "nbformat_minor": 2
}
